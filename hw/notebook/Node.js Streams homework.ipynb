{
 "cells": [
  {
   "cell_type": "markdown",
   "metadata": {},
   "source": [
    "# Node.js Streams homework"
   ]
  },
  {
   "cell_type": "markdown",
   "metadata": {},
   "source": [
    "### Reference\n",
    "* Short intro https://nodejs.dev/learn/nodejs-streams\n",
    "* Node.js docs https://nodejs.org/api/stream.html"
   ]
  },
  {
   "cell_type": "markdown",
   "metadata": {},
   "source": [
    "### Warning\n",
    "\n",
    "If you encounter ```SyntaxError: Identifier <some-variable-name> has already been declared```\n",
    "go to Kernel -> Restart in order to clear all declared variables."
   ]
  },
  {
   "cell_type": "markdown",
   "metadata": {},
   "source": [
    "### Task 1\n",
    "You will have to apply the concepts presented at class in order to convert an audio file from a format to another without reading it entirely into memory.\n",
    "\n",
    "This process is generically called transcoding, although sometimes transmuxing is a more accurate term. You will understand the difference after you solve task 2.\n",
    "\n",
    "Since an image is worth a thousand words, here is what you'll actually do (in a streamed fashion):\n",
    "\n",
    "![title](../img/transcoding.png)"
   ]
  },
  {
   "cell_type": "markdown",
   "metadata": {},
   "source": [
    "### Solution"
   ]
  },
  {
   "cell_type": "markdown",
   "metadata": {},
   "source": [
    "Please, don't change anything in the ```DON'T CHANGE``` sections of the code.\n",
    "\n",
    "You can test that the conversion is successfully done by accessing http://localhost:5050/, where you have an audio player.\n",
    "\n",
    "I suggest opening the url in an incognito session to prevent browser caching."
   ]
  },
  {
   "cell_type": "code",
   "execution_count": null,
   "metadata": {},
   "outputs": [],
   "source": [
    "'use strict';\n",
    "\n",
    "///////////// DON'T CHANGE /////////////\n",
    "// check docs for https://www.npmjs.com/package/prism-media\n",
    "const prism = require('prism-media');\n",
    "///////////////////////////////////////\n",
    "\n",
    "// You can add your dependencies here. \n",
    "// Note that you should use only Node.js builtin modules.\n",
    "// aka no third-party dependencies allowed, like the one above.\n",
    "const fs = require('fs');\n",
    "\n",
    "///////////// DON'T CHANGE /////////////\n",
    "const SOURCE_FILE = '../data/weekend.mp3';\n",
    "const DESTINATION_FILE = '../www/static/audio.ogg';\n",
    "\n",
    "const OUT_MUXER = 'ogg';\n",
    "const OUT_SAMPLE_RATE = '48000';\n",
    "const OUT_NUM_CHANNELS = '2';\n",
    "\n",
    "const transcoder = new prism.FFmpeg({\n",
    "  args: [\n",
    "    '-analyzeduration', '0',\n",
    "    '-loglevel', '0',\n",
    "    '-f', OUT_MUXER,\n",
    "    '-ar', OUT_SAMPLE_RATE,\n",
    "    '-ac', OUT_NUM_CHANNELS,\n",
    "  ],\n",
    "});\n",
    "///////////////////////////////////////\n",
    "\n",
    "// You can add your logic here.\n",
    "// Note that you should use only Node.js Stream APIs.\n",
    "// aka reading of the whole file in memory and afterwards converting it is not scored.\n",
    "const readableStream = fs.createReadStream(SOURCE_FILE);\n",
    "const writableStream = fs.createWriteStream(DESTINATION_FILE);\n",
    "\n",
    "readableStream\n",
    "    .pipe(transcoder)\n",
    "    .pipe(writableStream);\n"
   ]
  },
  {
   "cell_type": "markdown",
   "metadata": {},
   "source": [
    "### Task 2\n",
    "\n",
    "Use the following code to find out what codec is used by the source file and by the destination file, respectively. You should write them down along with the code changes you've made in order to use the cell given below.\n",
    "\n",
    "Also answer to the following questions:\n",
    "1. What's the difference between a container and a codec?\n",
    "2. What format do you think is more appropriate for live streaming conferences? (the one used by the source file, or the one used by the destination file)"
   ]
  },
  {
   "cell_type": "code",
   "execution_count": null,
   "metadata": {},
   "outputs": [],
   "source": [
    "const { spawn } = require('child_process');\n",
    "const ffprobe = require('ffprobe-static');\n",
    "\n",
    "const SOURCE_FILE = '../data/weekend.mp3';\n",
    "const DESTINATION_FILE = '../www/static/audio.ogg';\n",
    "\n",
    "process.argv[1] = 'probe.js';\n",
    "process.argv[2] = SOURCE_FILE;\n",
    "\n",
    "if (process.argv.length < 3) {\n",
    "    console.error('Command format: node probe.js <path-to-media-file>');\n",
    "}\n",
    "\n",
    "const command = ffprobe.path;\n",
    "const args = [\n",
    "    '-v', 'error',\n",
    "    '-select_streams', 'a:0',\n",
    "    '-show_entries', 'stream=codec_long_name',\n",
    "    '-of', 'default=noprint_wrappers=1:nokey=1',\n",
    "    process.argv[2]\n",
    "];\n",
    "\n",
    "const subprocess = spawn(command, args);\n",
    "\n",
    "subprocess.stdout.on('data', (data) => {\n",
    "  console.log(`stdout: ${data}`);\n",
    "});\n",
    "\n",
    "subprocess.stderr.on('data', (data) => {\n",
    "  console.error(`stderr: ${data}`);\n",
    "});\n",
    "\n",
    "subprocess.on('exit', (code, signal) => {\n",
    "\n",
    "    if (code !== null) {\n",
    "\n",
    "        if (code === 0) {\n",
    "            console.log('Process exit with succes');\n",
    "            return;\n",
    "        }\n",
    "\n",
    "        console.error(`Process exit code ${code}`);\n",
    "        return;\n",
    "    }\n",
    "\n",
    "    if (signal !== null) {\n",
    "        console.error(`Process killed with signal ${signal}`);\n",
    "    }\n",
    "});"
   ]
  },
  {
   "cell_type": "markdown",
   "metadata": {},
   "source": [
    "Source file codec: MP3 (MPEG audio layer 3)<br>\n",
    "Destination file codec: Vorbis\n",
    "\n",
    "The expected command format is: `node probe.js <path-to-media-file>`\n",
    "\n",
    "To use the cell above, I modified the `process.argv` property, that is the array containing the command-line arguments passed when the Node.js process is launched. The first argument is `node`, the second one has to be `probe.js`, and the third one is the path to the desired media file.\n",
    "\n",
    "To find out what codec is used by the source/destination file, I set the path to the source/destination file as the third argument.<br><br>\n",
    "\n",
    "1. What's the difference between a container and a codec?\n",
    "\n",
    "A container packages video and/or audio data, and metadata, in a single file (.mp3, .ogg, .flac etc.). A codec (coder-decoder) is responsible for handling media encoding/decoding (Vorbis, Opus, MPEG-1 Audio Layer III etc.).<br><br>\n",
    "\n",
    "2. What format do you think is more appropriate for live streaming conferences? (the one used by the source file, or the one used by the destination file)\n",
    "\n",
    "MP3 is for sure the most popular lossy format. OGG is also a lossy audio format.<br>\n",
    "According to the MDN Web Docs, generally, Vorbis is more efficient in terms of size and bit rate than MP3 at similar quality levels.<br>\n",
    "When live streaming conferences, audio and video need to be in sync. It means low latency is important. Vorbis has lower latency (5 ms to 66.5 ms) than MP3 (at least 100 ms). However, there are much better codecs for voice recording/playback, such as G.722 (4 ms latency) or AMR (25 ms latency).<br>\n",
    "That being said, I think the format used by the destination file is more appropriate for live streaming conferences.\n"
   ]
  }
 ],
 "metadata": {
  "kernelspec": {
   "display_name": "JavaScript (Node.js)",
   "language": "javascript",
   "name": "javascript"
  },
  "language_info": {
   "file_extension": ".js",
   "mimetype": "application/javascript",
   "name": "javascript",
   "version": "18.2.0"
  }
 },
 "nbformat": 4,
 "nbformat_minor": 2
}
