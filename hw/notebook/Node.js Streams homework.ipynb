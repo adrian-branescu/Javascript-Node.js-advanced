{
 "cells": [
  {
   "cell_type": "markdown",
   "metadata": {},
   "source": [
    "# Node.js Streams homework"
   ]
  },
  {
   "cell_type": "markdown",
   "metadata": {},
   "source": [
    "### Reference\n",
    "* Short intro https://nodejs.dev/learn/nodejs-streams\n",
    "* Node.js docs https://nodejs.org/api/stream.html"
   ]
  },
  {
   "cell_type": "markdown",
   "metadata": {},
   "source": [
    "### Warning\n",
    "\n",
    "If you encounter ```SyntaxError: Identifier <some-variable-name> has already been declared```\n",
    "go to Kernel -> Restart in order to clear all declared variables."
   ]
  },
  {
   "cell_type": "markdown",
   "metadata": {},
   "source": [
    "### Task 1\n",
    "You will have to apply the concepts presented at class in order to convert an audio file from a format to another without reading it entirely into memory.\n",
    "\n",
    "This process is generically called transcoding, although sometimes transmuxing is a more accurate term. You will understand the difference after you solve task 2.\n",
    "\n",
    "Since an image is worth a thousand words, here is what you'll actually do (in a streamed fashion):\n",
    "\n",
    "![title](../img/transcoding.png)"
   ]
  },
  {
   "cell_type": "markdown",
   "metadata": {},
   "source": [
    "### Solution"
   ]
  },
  {
   "cell_type": "markdown",
   "metadata": {},
   "source": [
    "Please, don't change anything in the ```DON'T CHANGE``` sections of the code.\n",
    "\n",
    "You can test that the conversion is successfully done by accessing http://localhost:5050/, where you have an audio player.\n",
    "\n",
    "I suggest opening the url in an incognito session to prevent browser caching."
   ]
  },
  {
   "cell_type": "code",
   "execution_count": null,
   "metadata": {},
   "outputs": [],
   "source": [
    "'use strict';\n",
    "\n",
    "///////////// DON'T CHANGE /////////////\n",
    "// check docs for https://www.npmjs.com/package/prism-media\n",
    "const prism = require('prism-media');\n",
    "///////////////////////////////////////\n",
    "\n",
    "// You can add your dependencies here. \n",
    "// Note that you should use only Node.js builtin modules.\n",
    "// aka no third-party dependencies allowed, like the one above.\n",
    "\n",
    "const fs = require('fs');\n",
    "\n",
    "///////////// DON'T CHANGE /////////////\n",
    "const SOURCE_FILE = '../data/weekend.mp3';\n",
    "const DESTINATION_FILE = '../www/static/audio.ogg';\n",
    "\n",
    "const OUT_MUXER = 'ogg';\n",
    "const OUT_SAMPLE_RATE = '48000';\n",
    "const OUT_NUM_CHANNELS = '2';\n",
    "\n",
    "const transcoder = new prism.FFmpeg({\n",
    "  args: [\n",
    "    '-analyzeduration', '0',\n",
    "    '-loglevel', '0',\n",
    "    '-f', OUT_MUXER,\n",
    "    '-ar', OUT_SAMPLE_RATE,\n",
    "    '-ac', OUT_NUM_CHANNELS,\n",
    "  ],\n",
    "});\n",
    "///////////////////////////////////////\n",
    "\n",
    "// You can add your logic here.\n",
    "// Note that you should use only Node.js Stream APIs.\n",
    "// aka reading of the whole file in memory and afterwards converting it is not scored.\n",
    "const readStream = fs.createReadStream(SOURCE_FILE);\n",
    "const writeStream = fs.createWriteStream(DESTINATION_FILE);\n",
    "readStream.pipe(transcoder).pipe(writeStream);"
   ]
  },
  {
   "cell_type": "markdown",
   "metadata": {},
   "source": [
    "### Task 2\n",
    "\n",
    "Use the following code to find out what codec is used by the source file and by the destination file, respectively. You should write them down along with the code changes you've made in order to use the cell given below.\n",
    "\n",
    "Also answer to the following questions:\n",
    "1. What's the difference between a container and a codec?\n",
    "2. What format do you think is more appropriate for live streaming conferences? (the one used by the source file, or the one used by the destination file)"
   ]
  },
  {
   "cell_type": "code",
   "execution_count": null,
   "metadata": {},
   "outputs": [],
   "source": [
    "const { spawn } = require('child_process');\n",
    "const ffprobe = require('ffprobe-static');\n",
    "\n",
    "if (process.argv.length < 3) {\n",
    "    console.error('Command format: node probe.js <path-to-media-file>');\n",
    "}\n",
    "process.argv.push('probe.js');\n",
    "process.argv.push(SOURCE_FILE);\n",
    "\n",
    "const command = ffprobe.path;\n",
    "const args = [\n",
    "    '-v', 'error',\n",
    "    '-select_streams', 'a:0',\n",
    "    '-show_entries', 'stream=codec_long_name',\n",
    "    '-of', 'default=noprint_wrappers=1:nokey=1',\n",
    "    process.argv[2]\n",
    "];\n",
    "\n",
    "const subprocess = spawn(command, args);\n",
    "\n",
    "subprocess.stdout.on('data', (data) => {\n",
    "  console.log(`stdout: ${data}`);\n",
    "});\n",
    "\n",
    "subprocess.stderr.on('data', (data) => {\n",
    "  console.error(`stderr: ${data}`);\n",
    "});\n",
    "\n",
    "subprocess.on('exit', (code, signal) => {\n",
    "\n",
    "    if (code !== null) {\n",
    "\n",
    "        if (code === 0) {\n",
    "            console.log('Process exit with succes');\n",
    "            return;\n",
    "        }\n",
    "\n",
    "        console.error(`Process exit code ${code}`);\n",
    "        return;\n",
    "    }\n",
    "\n",
    "    if (signal !== null) {\n",
    "        console.error(`Process killed with signal ${signal}`);\n",
    "    }\n",
    "});\n",
    "\n",
    "//Codecs are a method for encoding and decoding video data. The encoding process is where video data is compressed for faster transmission or to make a file smaller.\n",
    "//The main difference is that the codec is the actual software that does the compressing of your video file,\n",
    "// while the container is the package the final project is delivered in for playback.\n",
    "//I would use a codec version as it ie faster to send smaller files via a network of computers"
   ]
  },
  {
   "cell_type": "code",
   "execution_count": null,
   "metadata": {},
   "outputs": [],
   "source": []
  },
  {
   "cell_type": "code",
   "execution_count": null,
   "metadata": {},
   "outputs": [],
   "source": []
  }
 ],
 "metadata": {
  "kernelspec": {
   "display_name": "JavaScript (Node.js)",
   "language": "javascript",
   "name": "javascript"
  },
  "language_info": {
   "file_extension": ".js",
   "mimetype": "application/javascript",
   "name": "javascript",
   "version": "18.2.0"
  }
 },
 "nbformat": 4,
 "nbformat_minor": 2
}
